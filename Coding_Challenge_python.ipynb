{
 "cells": [
  {
   "cell_type": "code",
   "execution_count": 2,
   "id": "9bb54c92-a356-446e-9dac-80c2a73bd02a",
   "metadata": {},
   "outputs": [
    {
     "name": "stdout",
     "output_type": "stream",
     "text": [
      " 5\n",
      " 3\n",
      " 4\n",
      " 6\n",
      " 2\n",
      " 1\n"
     ]
    },
    {
     "name": "stdout",
     "output_type": "stream",
     "text": [
      "[1, 2, 3, 4, 6]\n",
      "4\n"
     ]
    }
   ],
   "source": [
    "# 1.Finding the Second largest Number in a list\n",
    "N = int(input())\n",
    "lis = []\n",
    "for i in range(N):\n",
    "    lis.append(int(input()))\n",
    "lis.sort()\n",
    "print(lis)\n",
    "print(lis[-2])"
   ]
  },
  {
   "cell_type": "code",
   "execution_count": 8,
   "id": "e82a535d-86b4-4bef-8c83-edec90255b0a",
   "metadata": {},
   "outputs": [
    {
     "name": "stdout",
     "output_type": "stream",
     "text": [
      " 4\n"
     ]
    },
    {
     "name": "stdout",
     "output_type": "stream",
     "text": [
      "Not Prime\n"
     ]
    }
   ],
   "source": [
    "# 2. Check if a number is prime\n",
    "n = int(input())\n",
    "for i in range(2,int(n/2)+1):\n",
    "    if n%i == 0:\n",
    "        print(\"Not Prime\")\n",
    "        break\n",
    "else:\n",
    "    print(\"Prime\")"
   ]
  },
  {
   "cell_type": "code",
   "execution_count": 10,
   "id": "4f575029-9f47-4677-af1a-675d1acbcfe0",
   "metadata": {},
   "outputs": [
    {
     "name": "stdout",
     "output_type": "stream",
     "text": [
      " Hayath\n"
     ]
    },
    {
     "name": "stdout",
     "output_type": "stream",
     "text": [
      "htayaH\n"
     ]
    }
   ],
   "source": [
    "# 3. Python program to reverse a string\n",
    "n = input()\n",
    "print(n[::-1])"
   ]
  },
  {
   "cell_type": "code",
   "execution_count": 26,
   "id": "1a1a4395-9ad0-49fc-be13-364e5a529a59",
   "metadata": {},
   "outputs": [
    {
     "name": "stdout",
     "output_type": "stream",
     "text": [
      " 1 3 5 7 \n",
      " 2 4 6 8\n"
     ]
    },
    {
     "name": "stdout",
     "output_type": "stream",
     "text": [
      "[1, 2, 3, 4, 5, 6, 7, 8]\n"
     ]
    }
   ],
   "source": [
    "# 4. Merge two sorted arrays into a single sorted array without using any built-in sort methods\n",
    "\n",
    "lis1 = list(map(int, input().split()))\n",
    "lis2 = list(map(int, input().split()))\n",
    "def merge(lis1, lis2):\n",
    "    i, j = 0, 0\n",
    "    merged_array = []\n",
    "\n",
    "    while i < len(arr1) and j < len(arr2):\n",
    "        if arr1[i] < arr2[j]:\n",
    "            merged_array.append(arr1[i])\n",
    "            i += 1\n",
    "        else:\n",
    "            merged_array.append(arr2[j])\n",
    "            j += 1\n",
    "\n",
    "    while i < len(arr1):\n",
    "        merged_array.append(arr1[i])\n",
    "        i += 1\n",
    "\n",
    "    while j < len(arr2):\n",
    "        merged_array.append(arr2[j])\n",
    "        j += 1\n",
    "\n",
    "    return merged_array\n",
    "res = merge(lis1,lis2)\n",
    "print(res)"
   ]
  },
  {
   "cell_type": "code",
   "execution_count": 18,
   "id": "4bb671e0-2eb2-4694-a73c-9b5265fa3928",
   "metadata": {},
   "outputs": [
    {
     "name": "stdout",
     "output_type": "stream",
     "text": [
      " 6\n"
     ]
    },
    {
     "name": "stdout",
     "output_type": "stream",
     "text": [
      "720\n"
     ]
    }
   ],
   "source": [
    "# 5. Factorial of a number using recursion\n",
    "def fact(n):\n",
    "    if n == 1:\n",
    "        return n\n",
    "    else:\n",
    "        return n * fact(n-1)\n",
    "n = int(input())\n",
    "print(fact(n))"
   ]
  },
  {
   "cell_type": "code",
   "execution_count": 19,
   "id": "73d6f949-f11f-4132-a384-0c756aafab27",
   "metadata": {},
   "outputs": [],
   "source": [
    "# 6. Find the largest contiguous subarray sum (Kadane’s Algorithm).\n"
   ]
  },
  {
   "cell_type": "code",
   "execution_count": 23,
   "id": "8e9280c7-1281-4564-b4d0-8d87415b6d5c",
   "metadata": {},
   "outputs": [
    {
     "name": "stdout",
     "output_type": "stream",
     "text": [
      " malayalam\n"
     ]
    },
    {
     "name": "stdout",
     "output_type": "stream",
     "text": [
      "Palindrome\n"
     ]
    }
   ],
   "source": [
    "# 7. Check if a given string is a palindrome.\n",
    "n = input()\n",
    "rev = n[::-1]\n",
    "if n==rev:\n",
    "    print(\"Palindrome\")\n",
    "else:\n",
    "    print(\"Not Palindrome\")"
   ]
  },
  {
   "cell_type": "code",
   "execution_count": 28,
   "id": "00f9c56e-7506-4a12-8b04-40e05fc89cee",
   "metadata": {},
   "outputs": [
    {
     "name": "stdout",
     "output_type": "stream",
     "text": [
      " 7\n"
     ]
    },
    {
     "name": "stdout",
     "output_type": "stream",
     "text": [
      "111\n"
     ]
    }
   ],
   "source": [
    "# 8. Convert a decimal number to binary without using built-in functions.\n",
    "n = int(input())\n",
    "def binary(n):\n",
    "    if n == 0:\n",
    "        return '0'\n",
    "    \n",
    "    binary_representation = ''\n",
    "    \n",
    "    while n > 0:\n",
    "        remainder = n % 2 \n",
    "        binary_representation = str(remainder) + binary_representation \n",
    "        n = n // 2 \n",
    "    \n",
    "    return binary_representation\n",
    "print(binary(n))"
   ]
  },
  {
   "cell_type": "code",
   "execution_count": 30,
   "id": "650efd26-b62b-4588-be34-3e61e17fa6ba",
   "metadata": {},
   "outputs": [
    {
     "name": "stdout",
     "output_type": "stream",
     "text": [
      " 1 3 -2 6 -7\n",
      " 4\n"
     ]
    },
    {
     "name": "stdout",
     "output_type": "stream",
     "text": [
      "[(1, 3), (-2, 6)]\n"
     ]
    }
   ],
   "source": [
    "# 9. Find pairs in an array with a given sum.\n",
    "def find_pairs(arr, target_sum):\n",
    "    seen = set()  \n",
    "    pairs = []    \n",
    "    \n",
    "    for num in arr:\n",
    "        complement = target_sum - num\n",
    "        if complement in seen:\n",
    "            pairs.append((complement, num))\n",
    "        seen.add(num)\n",
    "    \n",
    "    return pairs\n",
    "arr = list(map(int, input().split()))\n",
    "sum = int(input())\n",
    "print(find_pairs(arr,sum))"
   ]
  },
  {
   "cell_type": "code",
   "execution_count": 31,
   "id": "a78e757f-ba0e-4198-9c59-6fa089e2bd2e",
   "metadata": {},
   "outputs": [
    {
     "name": "stdout",
     "output_type": "stream",
     "text": [
      " 1 3 4 2 6 5 4 3 2 1 3 4 2 1\n"
     ]
    },
    {
     "name": "stdout",
     "output_type": "stream",
     "text": [
      "{1: 3, 3: 3, 4: 3, 2: 3, 6: 1, 5: 1}\n"
     ]
    }
   ],
   "source": [
    "# 10. Count the frequency of elements in a list.\n",
    "def count(lst):\n",
    "    frequency_dict = {}\n",
    "    \n",
    "    for element in lst:\n",
    "        if element in frequency_dict:\n",
    "            frequency_dict[element] += 1\n",
    "        else:\n",
    "            frequency_dict[element] = 1\n",
    "    \n",
    "    return frequency_dict\n",
    "lis = list(map(int, input().split()))\n",
    "print(count(lis))"
   ]
  },
  {
   "cell_type": "code",
   "execution_count": 41,
   "id": "d2c5fd54-3b9e-4632-ae9b-5d6c3adc7efa",
   "metadata": {},
   "outputs": [
    {
     "name": "stdout",
     "output_type": "stream",
     "text": [
      " 9\n"
     ]
    },
    {
     "name": "stdout",
     "output_type": "stream",
     "text": [
      "1\n",
      "1\n",
      "2\n",
      "3\n",
      "5\n",
      "8\n",
      "13\n",
      "21\n",
      "34\n"
     ]
    }
   ],
   "source": [
    "# 11. Fibonacci sequence: Write a program to generate the first N numbers in the Fibonacci sequence using recursion.\n",
    "def fib(n):\n",
    "    if n==0 or n==1:\n",
    "        return 1\n",
    "    else:\n",
    "        return fib(n-1) + fib(n-2)\n",
    "\n",
    "def series(s):\n",
    "    for i in range(s):\n",
    "        res = fib(i)\n",
    "        print(res)\n",
    "n=int(input())\n",
    "series(n)"
   ]
  },
  {
   "cell_type": "code",
   "execution_count": 42,
   "id": "761ea886-0a25-498e-91d6-a8eccc4419f7",
   "metadata": {},
   "outputs": [
    {
     "name": "stdout",
     "output_type": "stream",
     "text": [
      " 1 2 3 2 1 4 2\n"
     ]
    },
    {
     "name": "stdout",
     "output_type": "stream",
     "text": [
      "[1, 2, 3, 4]\n"
     ]
    }
   ],
   "source": [
    "# 12. Remove duplicates from a list: Write a program to remove duplicate elements from a list while preserving the order of elements.\n",
    "def remove_duplicates(lst):\n",
    "    seen = set() \n",
    "    result = []  \n",
    "\n",
    "    for element in lst:\n",
    "        if element not in seen:\n",
    "            seen.add(element)  \n",
    "            result.append(element) \n",
    "    \n",
    "    return result\n",
    "lis = list(map(int, input().split()))\n",
    "print(remove_duplicates(lis))"
   ]
  },
  {
   "cell_type": "code",
   "execution_count": 2,
   "id": "6325df1c-2bc7-47bb-8df2-6274d3be3a0e",
   "metadata": {},
   "outputs": [
    {
     "name": "stdout",
     "output_type": "stream",
     "text": [
      " silent\n",
      " listen\n"
     ]
    },
    {
     "name": "stdout",
     "output_type": "stream",
     "text": [
      "\"silent\" and \"listen\" are anagrams.\n"
     ]
    }
   ],
   "source": [
    "# 13. Anagram check: Write a Python function that checks if two strings are anagrams of eachother (i.e., if they contain the same characters in any order).\n",
    "def are_anagrams(str1, str2):\n",
    "    str1 = str1.replace(\" \", \"\").lower()\n",
    "    str2 = str2.replace(\" \", \"\").lower()\n",
    "    return sorted(str1) == sorted(str2)\n",
    "\n",
    "string1 = input()\n",
    "string2 = input()\n",
    "result = are_anagrams(string1, string2)\n",
    "\n",
    "if result:\n",
    "    print(f'\"{string1}\" and \"{string2}\" are anagrams.')\n",
    "else:\n",
    "    print(f'\"{string1}\" and \"{string2}\" are not anagrams.')"
   ]
  },
  {
   "cell_type": "code",
   "execution_count": 3,
   "id": "1c13f042-5cb0-4efd-8a59-f7de6e75d876",
   "metadata": {},
   "outputs": [
    {
     "name": "stdout",
     "output_type": "stream",
     "text": [
      " print\n"
     ]
    },
    {
     "name": "stdout",
     "output_type": "stream",
     "text": [
      "Number of vowels: 1\n",
      "Number of consonants: 4\n"
     ]
    }
   ],
   "source": [
    "# 14. Count vowels and consonants: Write a program that takes a string as input andcounts the number of vowels and consonants in it.\n",
    "input_string = input()\n",
    "vowels = \"aeiouAEIOU\"\n",
    "vowel_count = 0\n",
    "consonant_count = 0\n",
    "\n",
    "for char in input_string:\n",
    "    if char.isalpha():\n",
    "        if char in vowels:\n",
    "            vowel_count += 1\n",
    "        else:\n",
    "            consonant_count += 1\n",
    "\n",
    "print(f\"Number of vowels: {vowel_count}\")\n",
    "print(f\"Number of consonants: {consonant_count}\")\n"
   ]
  },
  {
   "cell_type": "code",
   "execution_count": 5,
   "id": "a09507ff-cf1d-4caa-ab74-c73fdbfbcb70",
   "metadata": {},
   "outputs": [
    {
     "name": "stdout",
     "output_type": "stream",
     "text": [
      " 1 2 3 4 5 6 7\n",
      " 3\n"
     ]
    },
    {
     "name": "stdout",
     "output_type": "stream",
     "text": [
      "Element 3 found at index 2.\n"
     ]
    }
   ],
   "source": [
    "# 15. Binary search algorithm: Implement the binary search algorithm for a sorted list and return the index of a target value.\n",
    "def binary_search(sorted_list, target):\n",
    "    left, right = 0, len(sorted_list) - 1\n",
    "\n",
    "    while left <= right:\n",
    "        mid = (left + right) // 2\n",
    "        if sorted_list[mid] == target:\n",
    "            return mid\n",
    "        elif sorted_list[mid] < target:\n",
    "            left = mid + 1\n",
    "        else:\n",
    "            right = mid - 1\n",
    "\n",
    "    return -1\n",
    "\n",
    "sorted_list = list(map(int, input().split()))\n",
    "target = int(input())\n",
    "index = binary_search(sorted_list, target)\n",
    "\n",
    "if index != -1:\n",
    "    print(f\"Element {target} found at index {index}.\")\n",
    "else:\n",
    "    print(f\"Element {target} not found in the list.\")"
   ]
  },
  {
   "cell_type": "code",
   "execution_count": null,
   "id": "333d623a-b9bc-4e0b-b540-911b957f50f0",
   "metadata": {},
   "outputs": [],
   "source": []
  }
 ],
 "metadata": {
  "kernelspec": {
   "display_name": "Python 3 (ipykernel)",
   "language": "python",
   "name": "python3"
  },
  "language_info": {
   "codemirror_mode": {
    "name": "ipython",
    "version": 3
   },
   "file_extension": ".py",
   "mimetype": "text/x-python",
   "name": "python",
   "nbconvert_exporter": "python",
   "pygments_lexer": "ipython3",
   "version": "3.12.4"
  }
 },
 "nbformat": 4,
 "nbformat_minor": 5
}
